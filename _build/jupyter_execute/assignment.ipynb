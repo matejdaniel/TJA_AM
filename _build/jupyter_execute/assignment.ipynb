{
 "cells": [
  {
   "cell_type": "markdown",
   "id": "401093fc-099e-414d-b65c-68e6073b9b97",
   "metadata": {},
   "source": [
    "# Project Assignment: Novel Joint Implant Design Using Additive Manufacturing\n",
    "\n",
    "Your final project is to design a next-generation artificial joint implant. Your challenge is to leverage the unique capabilities of **additive manufacturing (AM)** to develop a creative, patient-specific solution. Think outside the box and propose an innovative concept. A detailed, complex design isn't necessary; a well-explained sketch or conceptual model of your novel idea is sufficient. You'll present your design to the class during our final lecture.\n",
    "\n",
    "## Student Assignments\n",
    "\n",
    "| Student Email                  | Assigned Joint                   |\n",
    "| ------------------------------ | -------------------------------- |\n",
    "| `sohailalis3344@gmail.com`     | Hip Joint                        |\n",
    "| `D11203817@mail.ntust.edu.tw`  | Knee Joint                       |\n",
    "| `dwtandualem@gmail.com`        | Shoulder Joint                   |\n",
    "| `henokthermal24@gmail.com`     | Elbow Joint                      |\n",
    "| `tewomgreenenergy@gmail.com`   | Ankle Joint                      |\n",
    "| `M11203213@mail.ntust.edu.tw`  | Wrist Joint                      |\n",
    "| `b10803025@gmail.com`          | Finger (MCP Joint)               |\n",
    "| `M11303230@mail.ntust.edu.tw`  | Thumb (CMC Joint)                |\n",
    "| `wu103094@gmail.com`           | Spine (Artificial Disc)          |\n",
    "| `blue970075@gmail.com`         | Toe (MTP Joint)                  |\n",
    "| `reason.chen0303@gmail.com`    | Jaw (TMJ)                        |\n",
    "| `petephantawee2543@gmail.com`  | Neck (Cervical Spine Joints)     |\n",
    "| `rizkysudarsana@gmail.com`     | Sacroiliac Joint                 |\n",
    "| `raihanfajri2001@gmail.com`    | Intervertebral Facet Joint       |\n",
    "\n",
    "***\n",
    "\n",
    "## Presentation Requirements\n",
    "\n",
    "Your presentation should be a concise but comprehensive overview of your concept, covering the following points:\n",
    "\n",
    "1.  **Anatomical & Physiological Analysis**\n",
    "    * Describe the **anatomy** of your assigned joint, including its key components (bones, cartilage, ligaments).\n",
    "    * Explain its physiological **function** and range of motion.\n",
    "\n",
    "2.  **Biomechanical Load Analysis**\n",
    "    * Provide a reasonable **estimation of the loads** (e.g., compression, shear, torsion) that the joint experiences during typical activities like walking, lifting, or chewing. Provide a numerical estimation using simplified reduction model. \n",
    "    * You can also estimate the weight of the relevant body parts to inform your calculations.\n",
    "\n",
    "3.  **Medical Imaging & Patient-Specific Modeling**\n",
    "    * Identify the appropriate **medical imaging** modalities (e.g., CT, MRI) used to visualize the joint.\n",
    "    * Explain how you would use this data for segmentation to create a **2D or 3D model** for a patient-specific implant.\n",
    "\n",
    "4.  **Novel Implant Design Using AM**\n",
    "    * This is the core of your project. Propose a **novel implant design** that could only be practically achieved using additive manufacturing.\n",
    "    * Highlight the specific **advantages of using AM**, such as custom lattice structures for bone ingrowth, complex geometries for better kinematics, or functionally graded materials. Present sketches or basic CAD models of your idea.\n",
    "\n",
    "5.  **Manufacturing Process & Material Selection**\n",
    "    * Suggest a suitable **AM process** (e.g., Selective Laser Melting - SLM, Electron Beam Melting - EBM).\n",
    "    * Choose an appropriate **biocompatible material** (e.g., Titanium alloy Ti-6Al-4V, Co-Cr, PEEK) and justify your choices based on your design's requirements (strength, flexibility, etc.).\n",
    "\n",
    "6.  **Verification & Validation Plan**\n",
    "    * Outline a plan of **experiments** you would perform to prove your design is safe and effective before clinical use.\n",
    "    * Consider mechanical testing (e.g., fatigue, wear simulation) and biocompatibility tests.\n",
    "\n",
    "7.  **Limitations & Future Scope**\n",
    "    * Critically evaluate your design and identify its potential **limitations** or challenges (e.g., manufacturing constraints, long-term wear, cost).\n",
    "    * Suggest directions for **future work** or potential improvements."
   ]
  }
 ],
 "metadata": {
  "kernelspec": {
   "display_name": "Python 3 (ipykernel)",
   "language": "python",
   "name": "python3"
  },
  "language_info": {
   "codemirror_mode": {
    "name": "ipython",
    "version": 3
   },
   "file_extension": ".py",
   "mimetype": "text/x-python",
   "name": "python",
   "nbconvert_exporter": "python",
   "pygments_lexer": "ipython3",
   "version": "3.10.12"
  }
 },
 "nbformat": 4,
 "nbformat_minor": 5
}